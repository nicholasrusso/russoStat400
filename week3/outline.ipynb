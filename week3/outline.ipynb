{
 "cells": [
  {
   "cell_type": "markdown",
   "metadata": {},
   "source": [
    "## Confidence Intervals\n",
    "While we are able to __estimate__ these parameters, we do not know the true parameters, $\\beta_0$ and $\\beta_1$. Remember that these parameters were estimated from a __sample of the population__. To validate these parameters, we can use __confidence intervals__. A confidence interval provides a way \n",
    "- We need a way to validate this regression model/ prove it is statistically significant\n",
    "    - bc they are actually estimates.\n",
    "- CI for Slope and intercept\n",
    "    - explain equations\n",
    "    - \n",
    "These values are normally distributed and the mean is centered at $\\mu_y = \\beta_0 + \\beta_1x_i$. Notice how each y response value is uniquely defined by the distance to the regression line or by the residuals; these are also called __errors ($\\varepsilon$)__. Now, our updated linear model is now $y_i =  \\beta_0 + \\beta_1x_i + \\varepsilon_i$. For each explanatory variable, the error values are independent and normally distributed with a mean of 0.\n",
    "- look at data \n",
    "    - show how the same point produces differ y\n",
    "    - show regression formula without error\n",
    "        - show how doesn't work\n",
    "    - introduce idea for error\n",
    "    - Talk about linear regression equation\n",
    "        - Talk about how error allows for different y values for the same x value.\n",
    "            - Caused from error value\n",
    "        - For each x there is a population of y responses.\n",
    "            - These are normally distributed and have the same std.\n",
    "            - Independent\n",
    "            - Means of distributions lie on a straight line.\n",
    "            - Line is the population regression line. \n",
    "                - used to describe the mean response changes in X\n",
    "- explain that this is a calculation for population not sample.\n",
    "    - can't know true value of a population\n",
    "- Review least-squared regression\n",
    "- review residuals\n",
    "- show how they fit in\n",
    "- example how to calc $\\sigma^2$\n",
    "    - degrees of freedom\n",
    "- plotting residuals\n",
    "- needs random\n",
    "- shape implies non linear relationship."
   ]
  },
  {
   "cell_type": "markdown",
   "metadata": {},
   "source": []
  }
 ],
 "metadata": {
  "kernelspec": {
   "display_name": "Python 3",
   "language": "python",
   "name": "python3"
  },
  "language_info": {
   "codemirror_mode": {
    "name": "ipython",
    "version": 3
   },
   "file_extension": ".py",
   "mimetype": "text/x-python",
   "name": "python",
   "nbconvert_exporter": "python",
   "pygments_lexer": "ipython3",
   "version": "3.5.4"
  }
 },
 "nbformat": 4,
 "nbformat_minor": 0
}
