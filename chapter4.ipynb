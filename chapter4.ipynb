{
 "cells": [
  {
   "cell_type": "markdown",
   "metadata": {},
   "source": [
    "# Introduction to Multiple Linear Regression"
   ]
  },
  {
   "cell_type": "markdown",
   "metadata": {},
   "source": [
    "__Linear Regression Learning Objectives__ \n",
    "* Multiple Linear Regression Models\n",
    "* Estimating Multiple Parameters\n",
    "* Coefficient of Determination/R-squared"
   ]
  },
  {
   "cell_type": "markdown",
   "metadata": {},
   "source": [
    "__Salmon Learning Objectives__ \n",
    "* Multiple Linear Regression Models\n",
    "* Coefficient of Determination/R-squared"
   ]
  },
  {
   "cell_type": "code",
   "execution_count": 1,
   "metadata": {
    "collapsed": true
   },
   "outputs": [],
   "source": [
    "import pandas as pd\n",
    "from salmon import *\n",
    "%matplotlib inline\n",
    "plt.style.use('seaborn')"
   ]
  },
  {
   "cell_type": "markdown",
   "metadata": {},
   "source": [
    "## Multiple Linear Regression Model\n",
    "Multiple linear regression models are extremely similar to our simple linear regression models. The only difference is that you are comparing the affects of two or more explanatory variables on a response variable. Let's take a look the multiple linear regression model to solidify this idea:\n",
    "$$y_i = \\beta_0 + \\beta_1x_1 + \\beta_2x_2 + ... + \\beta_px_p + \\varepsilon_i$$\n",
    "Where p is the number of explanatory variables. This equation represents the mean population line and predicts the mean response value for a given explanatory value."
   ]
  },
  {
   "cell_type": "markdown",
   "metadata": {},
   "source": [
    "### Estimating Parameters\n",
    "To estimate our parameters, $\\beta_0, \\beta_1, ... \\beta_n$, we will use least squares regression. The equation is almost identical to simple linear regression but it accounts for the new parameters. Remember, in least-squares regression, the aim is to minimize the _sum of squared residuals_:\n",
    "$$\n",
    "\\begin{align*}\n",
    "\\sum_{i=1}^n e_i^2 &= \\sum_{i=1}^n (y_i - \\hat y_i)^2 \\\\\n",
    "&= \\sum_{i=1}^n (y_i - (b_0 + b_1 x_i + b_1 x_i ))^2\n",
    "\\end{align*}\n",
    "$$\n",
    "\n",
    "Now, we take the derivative of the equation above, with respect to $\\beta_0, \\beta_1, ... \\beta_n$, set them equal to zero, and then solve for $\\beta_0, \\beta_1, ... \\beta_n$. The last variable we need to estimate is $\\sigma^2$ and it is estimated by $s^2$ or the Mean Squared Error (MSE):\n",
    "$$s^2 = \\frac{\\Sigma e_i^2}{n-p-1}$$\n",
    "\n",
    "where $e_i$ are the residuals, n is the number of observations, and p is the number of explanatory variables. While it's good to know the underlining math behind these variables, we will use SALMON to calculate them."
   ]
  },
  {
   "cell_type": "markdown",
   "metadata": {},
   "source": [
    "#### Estimating Housing Prices with  with SALMON\n",
    "For this chapter, we will be looking at the AMES housing dataset. Let's find out how the total living area and the number of bedrooms affect the price of a house. First let's regress separately on total living area and number bedrooms."
   ]
  },
  {
   "cell_type": "code",
   "execution_count": 2,
   "metadata": {
    "collapsed": false
   },
   "outputs": [
    {
     "data": {
      "text/plain": [
       "Bedroom AbvGr     13889.495269\n",
       "Intercept        141151.743026\n",
       "Name: Coefficients, dtype: float64"
      ]
     },
     "execution_count": 2,
     "metadata": {},
     "output_type": "execute_result"
    }
   ],
   "source": [
    "ames = pd.read_csv(\"data/chapter4/AmesHousing.txt\", sep=\"\\t\")\n",
    "explanatory = Q(\"Bedroom AbvGr\")\n",
    "response = Q(\"SalePrice\")\n",
    "model = LinearModel(explanatory, response)\n",
    "model.fit(ames)[\"Coefficients\"]"
   ]
  },
  {
   "cell_type": "code",
   "execution_count": 3,
   "metadata": {
    "collapsed": false
   },
   "outputs": [
    {
     "data": {
      "text/plain": [
       "Gr Liv Area      111.694001\n",
       "Intercept      13289.634365\n",
       "Name: Coefficients, dtype: float64"
      ]
     },
     "execution_count": 3,
     "metadata": {},
     "output_type": "execute_result"
    }
   ],
   "source": [
    "explanatory = Q(\"Gr Liv Area\")\n",
    "response = Q(\"SalePrice\")\n",
    "model = LinearModel(explanatory, response)\n",
    "model.fit(ames)[\"Coefficients\"]"
   ]
  },
  {
   "cell_type": "markdown",
   "metadata": {},
   "source": [
    "From our simple linear regression chapters, we know that these models imply that for each single unit increase of a bedroom and living area, the housing price will increase roughly by \\$13,889 and \\$112. But, by just looking at these models independently, we are not taking into account the full effects of both variables. Now, let's regress on both living area and number of bedrooms. "
   ]
  },
  {
   "cell_type": "code",
   "execution_count": 4,
   "metadata": {
    "collapsed": false
   },
   "outputs": [
    {
     "data": {
      "text/plain": [
       "Gr Liv Area        136.360903\n",
       "Bedroom AbvGr   -29149.109660\n",
       "Intercept        59496.235786\n",
       "Name: Coefficients, dtype: float64"
      ]
     },
     "execution_count": 4,
     "metadata": {},
     "output_type": "execute_result"
    }
   ],
   "source": [
    "bedrooms = Q(\"Bedroom AbvGr\")\n",
    "living_area = Q(\"Gr Liv Area\")\n",
    "explanatory = bedrooms + living_area\n",
    "response = Q(\"SalePrice\")\n",
    "model = LinearModel(explanatory, response)\n",
    "model.fit(ames)[\"Coefficients\"]"
   ]
  },
  {
   "cell_type": "markdown",
   "metadata": {},
   "source": [
    "Interestingly, we can see that the number of bedrooms has a negative effect on the housing price and the living area has a positive effect. To fully understand this model, we need to take a deeper look at it and fully interpret it."
   ]
  },
  {
   "cell_type": "markdown",
   "metadata": {},
   "source": [
    "### Interpreting Multiple Linear Regression Models\n",
    "The coefficients of a multiple linear regression model, $\\beta_0, \\beta_1, ... \\beta_n$, are sometimes called _partial regression coefficients_ because each coefficient is responsible for part of the effect on our response variable. It is important to note that these coefficients explain their effect on y when holding all other variables constant. This is why the number of bedrooms had a negative effect on the housing price. \n",
    " <img src='images/chapter4/bed_houses.png'>\n",
    "If we keep the living area constant but continually increase the number of bedrooms, the house would loose value because there wouldn't be any room for our spaces like a kitchen or a dining room. Conversly, if we keep the number of bedrooms constant but increase the living area the price increases.\n",
    "<img src='images/chapter4/size_house.png'>\n",
    "Intuitively, this makes sense because as the home becomes larger and the number of bedrooms is constant, there is more space for the homeowners. \n",
    "\n",
    "Formally, we can interpret this model in the following way:\n",
    "$\\beta_0$: When the living area and number of bedrooms are zero, the price of a house is $59496.23 on average.\n",
    "\n",
    "$\\beta_1$: Holding the number of bedrooms constant, the price of a house increases by $136, on average, for each square foot increase.\n",
    "\n",
    "$\\beta_2$: Holding the living area constant, the price of a house decreases by $29,149, on average, for each additional bedroom."
   ]
  },
  {
   "cell_type": "markdown",
   "metadata": {},
   "source": [
    "#### Coefficient of Determination (R-squared)\n",
    "A useful metric in multiple linear regression is the Coefficient of Determination or $R^2$. $R^2$ measures the proportion of variability in the response variable caused by the explanatory variables. So, $R^2$ values of 0 indicate that the response variable can not be predicted using the explanatory variables. While an $R^2$ value of 1 indicates that the response variable can be predicted from the explanatory variables without error; all of our points would lie on the regression line. Any value between zero and one indicate the proporation of variability in the response variable \"explained\" by the explanatory variables. The Coefficient of Determination can be calculated with the following formula:\n",
    "$$R^2 = \\frac{\\Sigma{(\\hat{y}_i - \\bar{y}})^2}{\\Sigma{(y_i - \\bar{y}})^2}$$\n",
    "Where $\\hat{y}_i$ is the fitted value, $\\bar{y}$ is the mean, and $y_i$ is the observed values."
   ]
  },
  {
   "cell_type": "markdown",
   "metadata": {},
   "source": [
    "#### Coefficient of Determination (R-squared) in Salmon\n",
    "The $R^2$ value can be calculated easily in SALMON. "
   ]
  },
  {
   "cell_type": "code",
   "execution_count": 12,
   "metadata": {
    "collapsed": false
   },
   "outputs": [
    {
     "data": {
      "text/html": [
       "<div>\n",
       "<style scoped>\n",
       "    .dataframe tbody tr th:only-of-type {\n",
       "        vertical-align: middle;\n",
       "    }\n",
       "\n",
       "    .dataframe tbody tr th {\n",
       "        vertical-align: top;\n",
       "    }\n",
       "\n",
       "    .dataframe thead th {\n",
       "        text-align: right;\n",
       "    }\n",
       "</style>\n",
       "<table border=\"1\" class=\"dataframe\">\n",
       "  <thead>\n",
       "    <tr style=\"text-align: right;\">\n",
       "      <th></th>\n",
       "      <th>Coefficients</th>\n",
       "      <th>SE</th>\n",
       "      <th>t</th>\n",
       "      <th>p</th>\n",
       "    </tr>\n",
       "  </thead>\n",
       "  <tbody>\n",
       "    <tr>\n",
       "      <th>Gr Liv Area</th>\n",
       "      <td>136.360903</td>\n",
       "      <td>2.246764</td>\n",
       "      <td>60.692142</td>\n",
       "      <td>0.000000e+00</td>\n",
       "    </tr>\n",
       "    <tr>\n",
       "      <th>Bedroom AbvGr</th>\n",
       "      <td>-29149.109660</td>\n",
       "      <td>1372.135190</td>\n",
       "      <td>-21.243614</td>\n",
       "      <td>2.926484e-93</td>\n",
       "    </tr>\n",
       "    <tr>\n",
       "      <th>Intercept</th>\n",
       "      <td>59496.235786</td>\n",
       "      <td>3741.249056</td>\n",
       "      <td>15.902773</td>\n",
       "      <td>0.000000e+00</td>\n",
       "    </tr>\n",
       "  </tbody>\n",
       "</table>\n",
       "</div>"
      ],
      "text/plain": [
       "               Coefficients           SE          t             p\n",
       "Gr Liv Area      136.360903     2.246764  60.692142  0.000000e+00\n",
       "Bedroom AbvGr -29149.109660  1372.135190 -21.243614  2.926484e-93\n",
       "Intercept      59496.235786  3741.249056  15.902773  0.000000e+00"
      ]
     },
     "execution_count": 12,
     "metadata": {},
     "output_type": "execute_result"
    }
   ],
   "source": [
    "#TODO: add r-squared value.\n",
    "bedrooms = Q(\"Bedroom AbvGr\")\n",
    "living_area = Q(\"Gr Liv Area\")\n",
    "explanatory = bedrooms + living_area\n",
    "response = Q(\"SalePrice\")\n",
    "model = LinearModel(explanatory, response)\n",
    "model.fit(ames);\n",
    "#model.score()\n"
   ]
  },
  {
   "cell_type": "markdown",
   "metadata": {},
   "source": [
    "### Significance Testing\n",
    "After estimating the parameters, it is beneficial to run a hypothesis test on each estimated coefficient. This can determine if the coefficients provide a significant contribution to the model. To do this, we need to test if $\\beta_p = 0$ :\n",
    "\n",
    "$$H_0: \\beta_p = 0$$\n",
    "\n",
    "We can test this by calculating the t statisic:\n",
    "\n",
    "$$t^* = \\frac{b_p}{SE_{b_p}} \\sim t(n-p)$$\n",
    "\n",
    "Then we can look up the corresponding p-value in the t-table with $n - p$ degrees of freedom. If the p-value is less than a given alpha it is statistically significant. Let's check whether or not our coefficients in our Ames housing model are significant using an $\\alpha = 0.05$. Remember, you can get the SE, the t-statistic, and the corresponding p value from the output of `fit`."
   ]
  },
  {
   "cell_type": "code",
   "execution_count": 15,
   "metadata": {
    "collapsed": false
   },
   "outputs": [
    {
     "data": {
      "text/html": [
       "<div>\n",
       "<style scoped>\n",
       "    .dataframe tbody tr th:only-of-type {\n",
       "        vertical-align: middle;\n",
       "    }\n",
       "\n",
       "    .dataframe tbody tr th {\n",
       "        vertical-align: top;\n",
       "    }\n",
       "\n",
       "    .dataframe thead th {\n",
       "        text-align: right;\n",
       "    }\n",
       "</style>\n",
       "<table border=\"1\" class=\"dataframe\">\n",
       "  <thead>\n",
       "    <tr style=\"text-align: right;\">\n",
       "      <th></th>\n",
       "      <th>Coefficients</th>\n",
       "      <th>SE</th>\n",
       "      <th>t</th>\n",
       "      <th>p</th>\n",
       "    </tr>\n",
       "  </thead>\n",
       "  <tbody>\n",
       "    <tr>\n",
       "      <th>Gr Liv Area</th>\n",
       "      <td>136.360903</td>\n",
       "      <td>2.246764</td>\n",
       "      <td>60.692142</td>\n",
       "      <td>0.000000e+00</td>\n",
       "    </tr>\n",
       "    <tr>\n",
       "      <th>Bedroom AbvGr</th>\n",
       "      <td>-29149.109660</td>\n",
       "      <td>1372.135190</td>\n",
       "      <td>-21.243614</td>\n",
       "      <td>2.926484e-93</td>\n",
       "    </tr>\n",
       "    <tr>\n",
       "      <th>Intercept</th>\n",
       "      <td>59496.235786</td>\n",
       "      <td>3741.249056</td>\n",
       "      <td>15.902773</td>\n",
       "      <td>0.000000e+00</td>\n",
       "    </tr>\n",
       "  </tbody>\n",
       "</table>\n",
       "</div>"
      ],
      "text/plain": [
       "               Coefficients           SE          t             p\n",
       "Gr Liv Area      136.360903     2.246764  60.692142  0.000000e+00\n",
       "Bedroom AbvGr -29149.109660  1372.135190 -21.243614  2.926484e-93\n",
       "Intercept      59496.235786  3741.249056  15.902773  0.000000e+00"
      ]
     },
     "execution_count": 15,
     "metadata": {},
     "output_type": "execute_result"
    }
   ],
   "source": [
    "model.fit(ames)"
   ]
  },
  {
   "cell_type": "markdown",
   "metadata": {},
   "source": [
    "As we can see, both living area and number of bedrooms have p-values less than 0.05. Formally:\n",
    "\n",
    "We can conclude that there is a difference in the mean housing price associated with each additional square foot increase, adjusting for the number of bedrooms.\n",
    "\n",
    "We can conclude that there is a difference in the mean housing price associated with each additional bedroom, adjusting for the living area."
   ]
  },
  {
   "cell_type": "markdown",
   "metadata": {},
   "source": [
    "### Confidence Intervals\n",
    "Just like simple linear regression, we can calculate confidence intervals for multiple linear regression. These confidence intervals can give us a range of values where the true mean lies based on our estimated mean with a given confidence level. For each coefficient, we can calculate the confidence interval with the following equation:\n",
    "\n",
    "$$b_p \\pm t^*SE_{b_p}$$\n",
    "\n",
    "where $SE_{b_p} = \\frac{s}{\\sum(x_{ip} - \\bar{x_p})^2}$ "
   ]
  },
  {
   "cell_type": "markdown",
   "metadata": {},
   "source": [
    "Let's calculate and interpret the confidence intervals for Ames housing model using SALMON. To do this, you can use the function `slope_confidence_intervals()`. This function defaults to 95% confidence intervals but you can change it but passing in the confidence interval into the `conf` parameter. _e.g._ `slope_confidence_intervals(conf=.8)`"
   ]
  },
  {
   "cell_type": "code",
   "execution_count": 13,
   "metadata": {
    "collapsed": false
   },
   "outputs": [
    {
     "data": {
      "text/html": [
       "<div>\n",
       "<style scoped>\n",
       "    .dataframe tbody tr th:only-of-type {\n",
       "        vertical-align: middle;\n",
       "    }\n",
       "\n",
       "    .dataframe tbody tr th {\n",
       "        vertical-align: top;\n",
       "    }\n",
       "\n",
       "    .dataframe thead th {\n",
       "        text-align: right;\n",
       "    }\n",
       "</style>\n",
       "<table border=\"1\" class=\"dataframe\">\n",
       "  <thead>\n",
       "    <tr style=\"text-align: right;\">\n",
       "      <th></th>\n",
       "      <th>2.5%</th>\n",
       "      <th>97.5%</th>\n",
       "    </tr>\n",
       "  </thead>\n",
       "  <tbody>\n",
       "    <tr>\n",
       "      <th>Gr Liv Area</th>\n",
       "      <td>131.955505</td>\n",
       "      <td>140.766301</td>\n",
       "    </tr>\n",
       "    <tr>\n",
       "      <th>Bedroom AbvGr</th>\n",
       "      <td>-31839.557753</td>\n",
       "      <td>-26458.661568</td>\n",
       "    </tr>\n",
       "    <tr>\n",
       "      <th>Intercept</th>\n",
       "      <td>52160.488943</td>\n",
       "      <td>66831.982628</td>\n",
       "    </tr>\n",
       "  </tbody>\n",
       "</table>\n",
       "</div>"
      ],
      "text/plain": [
       "                       2.5%         97.5%\n",
       "Gr Liv Area      131.955505    140.766301\n",
       "Bedroom AbvGr -31839.557753 -26458.661568\n",
       "Intercept      52160.488943  66831.982628"
      ]
     },
     "execution_count": 13,
     "metadata": {},
     "output_type": "execute_result"
    }
   ],
   "source": [
    "model.slope_confidence_intervals()"
   ]
  },
  {
   "cell_type": "markdown",
   "metadata": {},
   "source": [
    "For the living area, we are 95% confident that, for each additional square foot, the true mean house price increase between \\$132 and \\$141, adjusting for the number of bedrooms.\n",
    "\n",
    "For the number of bedrooms, we are 95% confident that, for each additional bedroom, the true mean house price decreases between \\$31840 and \\$26459, adjusting for the living area."
   ]
  },
  {
   "cell_type": "code",
   "execution_count": null,
   "metadata": {
    "collapsed": true
   },
   "outputs": [],
   "source": []
  }
 ],
 "metadata": {
  "kernelspec": {
   "display_name": "Python 3",
   "language": "python",
   "name": "python3"
  },
  "language_info": {
   "codemirror_mode": {
    "name": "ipython",
    "version": 3
   },
   "file_extension": ".py",
   "mimetype": "text/x-python",
   "name": "python",
   "nbconvert_exporter": "python",
   "pygments_lexer": "ipython3",
   "version": "3.5.4"
  }
 },
 "nbformat": 4,
 "nbformat_minor": 0
}
