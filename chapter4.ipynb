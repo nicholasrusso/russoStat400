{
 "cells": [
  {
   "cell_type": "markdown",
   "metadata": {},
   "source": [
    "# Introduction to Multiple Linear Regression"
   ]
  },
  {
   "cell_type": "markdown",
   "metadata": {},
   "source": [
    "__Linear Regression Learning Objectives__ \n",
    "* Multiple Linear Regression Models\n",
    "* Estimating Multiple Parameters"
   ]
  },
  {
   "cell_type": "markdown",
   "metadata": {},
   "source": [
    "__Salmon Learning Objectives__ \n",
    "* Multiple Linear Regression Models"
   ]
  },
  {
   "cell_type": "code",
   "execution_count": 1,
   "metadata": {
    "collapsed": true
   },
   "outputs": [],
   "source": [
    "import pandas as pd\n",
    "from salmon import *\n",
    "%matplotlib inline\n",
    "plt.style.use('seaborn')"
   ]
  },
  {
   "cell_type": "markdown",
   "metadata": {},
   "source": [
    "## Multiple Linear Regression Model\n",
    "Multiple linear regression models are extremely similar to our simple linear regression models. The only difference is that you are comparing the affects of two or more explanatory variables on a response variable. Let's take a look the multiple linear regression model to solidify this idea:\n",
    "$$y_i = \\beta_0 + \\beta_1x_1 + \\beta_2x_2 + ... + \\beta_nx_n + \\varepsilon_i$$\n",
    "Where n is the number of explanatory variables."
   ]
  },
  {
   "cell_type": "markdown",
   "metadata": {},
   "source": [
    "### Estimating Parameters\n",
    "To estimate our parameters, $\\beta_0, \\beta_1, ... \\beta_n$, we will use least squares regression. The equation is almost identical to simple linear regression but it accounts for the new parameters. Remember, in least-squares regression, the aim is to minimize the _sum of squared errors_:\n",
    "$$\n",
    "\\begin{align*}\n",
    "\\sum_{i=1}^n (\\textrm{errors}_i)^2 &= \\sum_{i=1}^n (y_i - \\hat y_i)^2 \\\\\n",
    "&= \\sum_{i=1}^n (y_i - (b_0 + b_1 x_i + b_1 x_i ))^2\n",
    "\\end{align*}\n",
    "$$\n",
    "\n",
    "Now, we take the derivative of the equation above, with respect to $\\beta_0, \\beta_1, ... \\beta_n$, set them equal to zero, and then solve for $\\beta_0, \\beta_1, ... \\beta_n$. While it's good to know the underlining math behind this, we will use SALMON to calculate these parameters."
   ]
  },
  {
   "cell_type": "markdown",
   "metadata": {},
   "source": [
    "#### Estimating Housing Prices with  with SALMON\n",
    "For this chapter, we will be looking at the AMES housing dataset. Let's find out how the total living area and the number of bedrooms affect the price of a house. First let's regress separately on total living area and number bedrooms."
   ]
  },
  {
   "cell_type": "code",
   "execution_count": 16,
   "metadata": {
    "collapsed": false
   },
   "outputs": [
    {
     "data": {
      "text/plain": [
       "Bedroom AbvGr     13889.495269\n",
       "Intercept        141151.743026\n",
       "Name: Coefficients, dtype: float64"
      ]
     },
     "execution_count": 16,
     "metadata": {},
     "output_type": "execute_result"
    }
   ],
   "source": [
    "ames = pd.read_csv(\"data/chapter4/AmesHousing.txt\", sep=\"\\t\")\n",
    "explanatory = Q(\"Bedroom AbvGr\")\n",
    "response = Q(\"SalePrice\")\n",
    "model = LinearModel(explanatory, response)\n",
    "model.fit(ames)[\"Coefficients\"]"
   ]
  },
  {
   "cell_type": "code",
   "execution_count": 18,
   "metadata": {
    "collapsed": false
   },
   "outputs": [
    {
     "data": {
      "text/plain": [
       "Gr Liv Area      111.694001\n",
       "Intercept      13289.634365\n",
       "Name: Coefficients, dtype: float64"
      ]
     },
     "execution_count": 18,
     "metadata": {},
     "output_type": "execute_result"
    }
   ],
   "source": [
    "explanatory = Q(\"Gr Liv Area\")\n",
    "response = Q(\"SalePrice\")\n",
    "model = LinearModel(explanatory, response)\n",
    "model.fit(ames)[\"Coefficients\"]"
   ]
  },
  {
   "cell_type": "markdown",
   "metadata": {},
   "source": [
    "From our simple linear regression chapters, we know that these models imply that for each single unit increase of a bedroom and living area, the housing price will increase roughly by \\$13,889 and \\$112. But, by just looking at these models independently, we are not taking into account the full effects of both variables. Now, let's regress on both living area and number of bedrooms. "
   ]
  },
  {
   "cell_type": "code",
   "execution_count": 26,
   "metadata": {
    "collapsed": false
   },
   "outputs": [
    {
     "data": {
      "text/plain": [
       "Gr Liv Area        136.360903\n",
       "Bedroom AbvGr   -29149.109660\n",
       "Intercept        59496.235786\n",
       "Name: Coefficients, dtype: float64"
      ]
     },
     "execution_count": 26,
     "metadata": {},
     "output_type": "execute_result"
    }
   ],
   "source": [
    "bedrooms = Q(\"Bedroom AbvGr\")\n",
    "living_area = Q(\"Gr Liv Area\")\n",
    "explanatory = bedrooms + living_area\n",
    "response = Q(\"SalePrice\")\n",
    "model = LinearModel(explanatory, response)\n",
    "model.fit(ames)[\"Coefficients\"]"
   ]
  },
  {
   "cell_type": "markdown",
   "metadata": {},
   "source": [
    "Interestingly, we can see that the number of bedrooms has a negative effect on the housing price and the living area has a positive effect. To fully understand this model, we need to take a deeper look at it and fully interpret it."
   ]
  },
  {
   "cell_type": "markdown",
   "metadata": {},
   "source": [
    "### Interpreting Multiple Linear Regression Models\n",
    "The coefficients of a multiple linear regression model, $\\beta_0, \\beta_1, ... \\beta_n$, are sometimes called _partial regression coefficients_ because each coefficient is responsible for part of the effect on our response variable. It is important to note that these coefficients explain their effect on y when holding all other variables constant. This is why the number of bedrooms had a negative effect on the housing price. \n",
    " <img src='images/chapter4/bed_houses.png'>\n",
    "If we keep the living area constant but continually increase the number of bedrooms, the house would loose value because there wouldn't be any room for our spaces like a kitchen or a dining room. Conversly, if we keep the number of bedrooms constant but increase the living area the price increases.\n",
    "<img src='images/chapter4/size_house.png'>\n",
    "Intuitively, this makes sense because as the home becomes larger and the number of bedrooms is constant, there is more space for the homeowners. \n",
    "\n",
    "Formally, we can interpret this model in the following way:\n",
    "\n",
    "$\\beta_1$: Holding the number of bedrooms constant, the price of a house increases by \\$136 for each single unit increase of living area.\n",
    "\n",
    "$\\beta_2$: Holding the living area constant, the price of a house decreases by $29,149 for each additional bedroom."
   ]
  }
 ],
 "metadata": {
  "kernelspec": {
   "display_name": "Python 3",
   "language": "python",
   "name": "python3"
  },
  "language_info": {
   "codemirror_mode": {
    "name": "ipython",
    "version": 3
   },
   "file_extension": ".py",
   "mimetype": "text/x-python",
   "name": "python",
   "nbconvert_exporter": "python",
   "pygments_lexer": "ipython3",
   "version": "3.5.4"
  }
 },
 "nbformat": 4,
 "nbformat_minor": 0
}
