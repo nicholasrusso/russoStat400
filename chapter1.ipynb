{
 "cells": [
  {
   "cell_type": "markdown",
   "metadata": {},
   "source": [
    "# An Introduction to Linear Regression, Describing Data"
   ]
  },
  {
   "cell_type": "markdown",
   "metadata": {},
   "source": [
    "__Topics:__ Explanatory, Response, Independent, Dependent, Residuals, Correlation, Regression Line, Interpretting Coefficients"
   ]
  },
  {
   "cell_type": "markdown",
   "metadata": {},
   "source": [
    "__Linear Regression Learning Objectives__ \n",
    "* Variable Types\n",
    "* Variable Relationships\n",
    "* Plotting Variable Relationships using Scatterplots\n",
    "* Interpreting Scatterplots\n",
    "* Least Squared Regression\n",
    "* Interpreting Regression Line Coefficients"
   ]
  },
  {
   "cell_type": "markdown",
   "metadata": {},
   "source": [
    "__Salmon Learning Objectives__ \n",
    "* Creating Variables\n",
    "* Creating a Linear Regression Model\n",
    "* Plotting a Linear Regression Model\n",
    "* Getting Regression Line Coefficients"
   ]
  },
  {
   "cell_type": "markdown",
   "metadata": {},
   "source": [
    "### Importing Data"
   ]
  },
  {
   "cell_type": "code",
   "execution_count": 7,
   "metadata": {
    "collapsed": true
   },
   "outputs": [],
   "source": [
    "import pandas as pd\n",
    "from salmon import *\n",
    "%matplotlib inline\n",
    "lsd_data = pd.read_csv(\"data/chapter1/lsd.csv\")\n",
    "plt.style.use('seaborn')"
   ]
  },
  {
   "cell_type": "markdown",
   "metadata": {},
   "source": [
    "## Introduction\n",
    "The three main goals of linear regression are to describe a dataset, generate and predict future values, and analyze it. The following tutorials will guide you through linear regression topics related to these goals and will provide code examples using the package SALMON in Python. For this notebook, we will learn how to use simple linear regression to describe and investigate our dataset. "
   ]
  },
  {
   "cell_type": "markdown",
   "metadata": {},
   "source": [
    "#### Investigation: Drug Concentrations and Math Scores\n",
    "To start, let's look at a dataset which measures a subjects' drug scores after being given a specific amount of LSD. Our goal is to formally prove that hard drugs _elevate_ the users thinking. Let's imagine that you have just collected some data points and want to start visualizing your results.  A great way to quickly visualize our data would be through scatterplots. Scatterplots are extremely important to linear regression. Scatterplots are used to identify patterns or outliers, explore relationships, and find clusters. Let's plot the drug concentration on the `X` axis and the math scores on the `Y` axis. <img src='images/chapter1/first_plot.png'>"
   ]
  },
  {
   "cell_type": "markdown",
   "metadata": {},
   "source": [
    "Unsuprisingly, we can see that as the LSD concentration taken increases, the subject's math score decreases. But, we want to formally prove that the amount of LSD __explains__ the resulting math score. One of the main goals of simple linear regression is to see if one variable (the X variable) can explain another (the Y variable). Let's start formally exploring this relationship using __simple linear regression__."
   ]
  },
  {
   "cell_type": "markdown",
   "metadata": {},
   "source": [
    "## Variable Types\n",
    "\n",
    "Before we jump into linear regression, we should clarify some terms. There are two main types of variables in simple linear regression: __response variables and explanatory variables__. The response variable (dependent variable) is the focus of the study. This variable __measures the outcome__ of an experiment and is traditionally plotted on the Y axis. The explanantory variable (independent variable) is the variable that __causes or explains the outcome__ of the response variable; this will be plotted on the X axis. For our dataset, our explanatory variable is the drug concentration and the math score is the response variable."
   ]
  },
  {
   "cell_type": "markdown",
   "metadata": {},
   "source": [
    "### Salmon Variable Types "
   ]
  },
  {
   "cell_type": "markdown",
   "metadata": {},
   "source": [
    "In Salmon, variables are represented using the `V` wrapper and provide it the name of the variable. Lets start by making an explanatory and response variable. "
   ]
  },
  {
   "cell_type": "code",
   "execution_count": 8,
   "metadata": {
    "collapsed": true
   },
   "outputs": [],
   "source": [
    "lsd_explanatory = V(\"lsd\")\n",
    "math_response = V(\"math\")"
   ]
  },
  {
   "cell_type": "markdown",
   "metadata": {},
   "source": [
    "## Describing Relationships with Scatterplots\n",
    "The goal of simple linear regression is to examine the relationship between two variables. We want to see if we can __determine__ the effects of the __explanatory variable__ on the __response variable__. Let's look at our original scatterplot again.  <img src='images/chapter1/first_plot.png'>\n",
    "From the plot, we can see that as as the LSD concentration taken increases, the subject's math score decreases. Formally, there are a few attributes we can use to describe this relationship: __strength and direction__."
   ]
  },
  {
   "cell_type": "markdown",
   "metadata": {},
   "source": [
    "##### Strength\n",
    "\n",
    "The strength of the relationship can be viewed on a scatterplot. To do this, we look at how close the points on the scatter plot are to each other. This does not neccessarily mean that the points must be densely located in one specific area. In linear regression we hope to see the points follow the shape of a line.\n",
    "<table><tr><td style=\"text-align:center\">Strong Relationship<img src='images/chapter1/posAssoc.png'></td><td style=\"text-align:center\">Weak Relationship<img src='images/chapter1/weakRelationship.png'></td><td style=\"text-align:center\">No Relationship<img src='images/chapter1/noRelationship.png'></td></tr></table>"
   ]
  },
  {
   "cell_type": "markdown",
   "metadata": {},
   "source": [
    "##### Direction\n",
    "If the data has a clear direction, there is a __positive or negative association__. Data has a positive association when two variables tend to have low values paired together and high values paired together. For a negative association, when a low value is paired with a high value and vice versa.  Let's look at a couple of examples.\n",
    "<table><tr><td style=\"text-align:center\">Positive Association<img src='images/chapter1/posAssoc.png'></td><td style=\"text-align:center\">No Association<img src='images/chapter1/noAssoc.png'></td><td style=\"text-align:center\">Negative Association<img src='images/chapter1/negAssoc.png'></td></tr></table>\n",
    "\n",
    "The first plot shows a clear direction with a positive association, increases in the x value result in an increase in the y values. For the second image, we see a negative association, lower values of x result in higher values of y. For the third plot, there is no clear direction and as a result, no association. \n",
    "\n",
    "<table><tr><td style=\"text-align:center\">LSD vs Math Score<img src='images/chapter1/first_plot.png'></td></tr></table>\n",
    "From these measurements and examples, we can estimate that drug concentration and math score have a moderately strong relationship and a negative association. To formally measure strength and direction, we measure the __correlation__ between our explanatory and response variables."
   ]
  },
  {
   "cell_type": "markdown",
   "metadata": {},
   "source": [
    "## Correlation (r)\n",
    "Correlation is denoted as r and measures both strength and direction (or association) between two variables regardless if one is an explantory or response variable. The correlation between two variables is given as a single number between -1 and 1. Strength is measured by seeing how close the correlation is to -1 or 1, also know as the magnitude. So, a correlation score of 0.9 or -0.8 would imply an extremely strong relationship while a score of -0.5 or 0.1 would imply a weak relationship. To measure direction, we check if the correlation score is greater than or less than 0. When r > 0, there is a positive association. When r < 0, there is a negative association. Overall, if the correlation score is closer to 1, it is considered a positive correlation. If the correlation score is closer to -1, it is considered a negative correlation. This score is extremely important because if we square the correlation, it can __explain the variability that one variable causes in another__. For example, if create a linear model explaining the effects of x on y and the correlation between them is -0.6 then 36% of the variability in y is explained by x."
   ]
  },
  {
   "cell_type": "markdown",
   "metadata": {},
   "source": [
    "#### Calculating Correlation\n",
    "Prior to calculating the correlation, we need to calculate the mean and standard deviation of both variables. Correlation is calculated with the following formula:"
   ]
  },
  {
   "cell_type": "markdown",
   "metadata": {},
   "source": [
    "$$r = \\frac{1}{n-1}\\sum_{i=1}^n \\left ( \\frac{x_i - \\bar{x}}{s_x} \\right ) \\left ( \\frac{y_i - \\bar{y}}{s_y} \\right )$$\n",
    "\n",
    "| Variable      | Meaning       |\n",
    "| :-----------: |:-------------:|\n",
    "| n             | Number of observations | \n",
    "| $x_i$         | i-th observation of X  |\n",
    "| $y_i$         | i-th observation of Y  | \n",
    "| $\\bar{x}$     | Mean of all x observations |\n",
    "| $\\bar{y}$     | Mean of all y observations |\n",
    "| $s_x$         | Standard deviation of all x observations |\n",
    "| $s_y$         | Standard deviation of all y observations|"
   ]
  },
  {
   "cell_type": "markdown",
   "metadata": {},
   "source": [
    "For practice, let's calculate the correlation using Pandas."
   ]
  },
  {
   "cell_type": "code",
   "execution_count": 9,
   "metadata": {
    "collapsed": false
   },
   "outputs": [
    {
     "data": {
      "text/html": [
       "<div>\n",
       "<style scoped>\n",
       "    .dataframe tbody tr th:only-of-type {\n",
       "        vertical-align: middle;\n",
       "    }\n",
       "\n",
       "    .dataframe tbody tr th {\n",
       "        vertical-align: top;\n",
       "    }\n",
       "\n",
       "    .dataframe thead th {\n",
       "        text-align: right;\n",
       "    }\n",
       "</style>\n",
       "<table border=\"1\" class=\"dataframe\">\n",
       "  <thead>\n",
       "    <tr style=\"text-align: right;\">\n",
       "      <th></th>\n",
       "      <th>lsd</th>\n",
       "      <th>math</th>\n",
       "    </tr>\n",
       "  </thead>\n",
       "  <tbody>\n",
       "    <tr>\n",
       "      <th>lsd</th>\n",
       "      <td>1.000000</td>\n",
       "      <td>-0.936928</td>\n",
       "    </tr>\n",
       "    <tr>\n",
       "      <th>math</th>\n",
       "      <td>-0.936928</td>\n",
       "      <td>1.000000</td>\n",
       "    </tr>\n",
       "  </tbody>\n",
       "</table>\n",
       "</div>"
      ],
      "text/plain": [
       "           lsd      math\n",
       "lsd   1.000000 -0.936928\n",
       "math -0.936928  1.000000"
      ]
     },
     "execution_count": 9,
     "metadata": {},
     "output_type": "execute_result"
    }
   ],
   "source": [
    "lsd_data.corr()"
   ]
  },
  {
   "cell_type": "markdown",
   "metadata": {},
   "source": [
    "From our results, -0.937 implies there is a strong and negative correlation between drug concentration and math score."
   ]
  },
  {
   "cell_type": "markdown",
   "metadata": {},
   "source": [
    "#### Issues with Correlation\n",
    "Correlation is sensitive to outliers. While it may be difficult to remove outliers, it will drastically improve your correlation score. "
   ]
  },
  {
   "cell_type": "markdown",
   "metadata": {},
   "source": [
    "## Least-Squared Regression Lines"
   ]
  },
  {
   "cell_type": "markdown",
   "metadata": {},
   "source": [
    "While correlation is a great way to describe two quantitative variables, it is not a full description of their relationship. Another way to describe a dataset is to __fit a regression line__.  Regression lines are straight lines that follow a simple line equation $y = \\hat{\\beta_0} + \\hat{\\beta_1}x$. A regression line allows us to see the general direction of our data, explain how each change in the x value affects the y value, and __predict__ values. Let's start by adding a few different lines to our dataset.\n",
    "<table><tr><td style=\"text-align:center\"><img src='images/chapter1/reg_line_combine.png'></td></tr></table>"
   ]
  },
  {
   "cell_type": "markdown",
   "metadata": {},
   "source": [
    "While all of these lines generally capture the direction, how do we decide between them? We can measure how far the data points fall from the line. For each data point, we take the difference between the observed value, $y_i$, and the predicted value from the line, $\\hat y_i = b_0 + b_1 x_i$. We will call these differences the **errors**. The errors of the three lines above are depicted in the figure below.\n",
    "\n",
    "\n",
    "<table><tr><td style=\"text-align:center\"><img src='images/chapter1/reg_line_1.png'></td><td style=\"text-align:center\"><img src='images/chapter1/reg_line_2.png'></td><td style=\"text-align:center\"><img src='images/chapter1/reg_line_3.png'></td></tr></table>\n",
    "\n",
    "We want to find the line (i.e., an intercept $b_0$ and a slope $b_1$) that minimizes these errors. In least-squares regression, the aim is to minimize the _sum of squared errors_:\n",
    "$$\n",
    "\\begin{align*}\n",
    "\\sum_{i=1}^n (\\textrm{errors}_i)^2 &= \\sum_{i=1}^n (y_i - \\hat y_i)^2 \\\\\n",
    "&= \\sum_{i=1}^n (y_i - (b_0 + b_1 x_i))^2\n",
    "\\end{align*}\n",
    "$$\n",
    "\n",
    "Now, finding the optimal $b_0$ and $b_1$ is a calculus problem. Recall from calculus that the way to minimize a function is to take its derivative and set it equal to 0. So we can take the derivatives of the above expression with respect to $b_0$ and $b_1$, set them equal to 0, and solve for $b_0$ and $b_1$. If we do this and simplify, we find the following simple formulas for the slope and the intercept, in terms of the means, the standard deviations, and the correlation:\n",
    "$$\n",
    "\\begin{align*}\n",
    "b_1 &= r\\frac{s_x}{s_y} & \\textrm{and}& & b_0 &= \\bar{y} - b_1\\bar{x}.\n",
    "\\end{align*}\n",
    "$$\n",
    "\n",
    "| Variable      | Meaning       |\n",
    "| :-----------: |:-------------:|\n",
    "| $b_0$             | intercept | \n",
    "| $b_1$             | slope | \n",
    "| $x_i$         | i-th observation of X  |\n",
    "| $y_i$         | i-th observation of Y  | \n",
    "| $\\bar{x}$     | Mean of all x observations |\n",
    "| $\\bar{y}$     | Mean of all y observations |\n",
    "| $s_x$     | Standard deviation of all x observations |\n",
    "| $s_y$     | Standard deviation of all y observations|"
   ]
  },
  {
   "cell_type": "markdown",
   "metadata": {},
   "source": [
    "### Salmon Linear Models and Regression Lines - LSD Example\n",
    "To create a linear regression model, we use the `LinearModel` class. For simple linear regression, we will only provide one explanatory variable and one response variable. We can use the `lsd_explanatory` and `math_response` varibles we created above. Then we can create a regression line and simply call `.plot()` on the linear model class."
   ]
  },
  {
   "cell_type": "code",
   "execution_count": 10,
   "metadata": {
    "collapsed": false
   },
   "outputs": [
    {
     "data": {
      "image/png": "[encoded data removed]",
      "text/plain": [
       "<matplotlib.figure.Figure at 0x1a17c5acf8>"
      ]
     },
     "metadata": {},
     "output_type": "display_data"
    }
   ],
   "source": [
    "lsd_explanatory = V(\"lsd\")\n",
    "math_response = V(\"math\")\n",
    "model = LinearModel(lsd_explanatory, math_response)\n",
    "model.fit(lsd_data)\n",
    "model.plot()"
   ]
  },
  {
   "cell_type": "markdown",
   "metadata": {},
   "source": [
    "From the plot, we can see that the relationship between lsd and math is strong and negative. Let's interpret the coefficients so that we can get a better understanding the affects of lsd on the math score."
   ]
  },
  {
   "cell_type": "markdown",
   "metadata": {},
   "source": [
    "### Interpreting Coefficients - LSD Example\n",
    "#### Interpreting $b_0$  \n",
    "When interpreting $b_0$, we are saying when our variables, in this case $lsd$ equals zero, the value of $b_0$ will be the predicted value for our response variable. Let's look at the LSD dataset's intercept coefficient. In SALMON, we can get the coefficients when we fit a model, by calling `b_1, b_0 = model.fit(data)[\"Coefficients\"]`, or by accessing them from the bhat variable, `b_1, b_0 = model.bhat[\"Coefficients\"]`. Since we already fitted our model, we will use the `bhat` method."
   ]
  },
  {
   "cell_type": "code",
   "execution_count": 11,
   "metadata": {
    "collapsed": false
   },
   "outputs": [
    {
     "data": {
      "text/plain": [
       "lsd          -9.009466\n",
       "Intercept    89.123874\n",
       "Name: Coefficients, dtype: float64"
      ]
     },
     "execution_count": 11,
     "metadata": {},
     "output_type": "execute_result"
    }
   ],
   "source": [
    "model.bhat[\"Coefficients\"]"
   ]
  },
  {
   "cell_type": "markdown",
   "metadata": {},
   "source": [
    "From the coefficients, if we set the amount of LSD to 0, the user will score, __on average__, an 89.12 math score."
   ]
  },
  {
   "cell_type": "markdown",
   "metadata": {},
   "source": [
    "#### Interpreting $b_1$  \n",
    "From the output above, our lsd coefficient, $b_1$, is -9.01. This means that for each single unit increase of lsd, the user's math score will decrease, __on average__, by 9.01 percent, holding all other variables constant. \"Holding all other variables constant\" is more important and necessary in multiple linear regression and since we have one explanatory variable we do not need to worry about this."
   ]
  },
  {
   "cell_type": "markdown",
   "metadata": {},
   "source": [
    "### Speed of Sound \n",
    "Let's take a look at a high school physics lab's data on measuring the speed of sound and see what interesting things we can find.\n",
    "#### Background\n",
    "A group of students performed an experiment using a plastic tube and a tuning fork. Their goal is to measure the resonance of a sound wave based on the length of the tube and estimate the speed of sound. When thinking of problems that linear regression can solve, estimating the speed of sounds is probably not one of them; but we can do it! Let's plot the data set and apply a regression line to visualize if there is as linear relationship between the period (1/frequency) and the length of the tube. If you'd like to read more about the resonance tube experiment, you can find an example [here]( http://www.webassign.net/labsgraceperiod/asucolphysmechl1/lab_10/manual.html). Let's plot a regression line and take a look at the data."
   ]
  },
  {
   "cell_type": "markdown",
   "metadata": {},
   "source": [
    "### Salmon Linear Models and Regression Lines - Speed of Sound Example\n"
   ]
  },
  {
   "cell_type": "code",
   "execution_count": 14,
   "metadata": {
    "collapsed": false
   },
   "outputs": [
    {
     "data": {
      "image/png": "[encoded data removed]",
      "text/plain": [
       "<matplotlib.figure.Figure at 0x1a20d00e80>"
      ]
     },
     "metadata": {},
     "output_type": "display_data"
    }
   ],
   "source": [
    "sos_data = pd.read_csv(\"data/chapter1/speed_of_sound.csv\")\n",
    "explanatory = V(\"t\")\n",
    "response = V(\"L\")\n",
    "model = LinearModel(explanatory, response)\n",
    "model.fit(sos_data)\n",
    "model.plot()"
   ]
  },
  {
   "cell_type": "markdown",
   "metadata": {
    "collapsed": true
   },
   "source": [
    "From the regression line, we can visualize that frequency and the length of the tube have a strong and positive relationship. But, how are the students estimating the speed of sound? Let's take at look at our data."
   ]
  },
  {
   "cell_type": "code",
   "execution_count": 15,
   "metadata": {
    "collapsed": false,
    "scrolled": true
   },
   "outputs": [
    {
     "data": {
      "text/html": [
       "<div>\n",
       "<style scoped>\n",
       "    .dataframe tbody tr th:only-of-type {\n",
       "        vertical-align: middle;\n",
       "    }\n",
       "\n",
       "    .dataframe tbody tr th {\n",
       "        vertical-align: top;\n",
       "    }\n",
       "\n",
       "    .dataframe thead th {\n",
       "        text-align: right;\n",
       "    }\n",
       "</style>\n",
       "<table border=\"1\" class=\"dataframe\">\n",
       "  <thead>\n",
       "    <tr style=\"text-align: right;\">\n",
       "      <th></th>\n",
       "      <th>Unnamed: 0</th>\n",
       "      <th>f</th>\n",
       "      <th>L</th>\n",
       "      <th>t</th>\n",
       "    </tr>\n",
       "  </thead>\n",
       "  <tbody>\n",
       "    <tr>\n",
       "      <th>0</th>\n",
       "      <td>0</td>\n",
       "      <td>512.0</td>\n",
       "      <td>0.157</td>\n",
       "      <td>0.001953</td>\n",
       "    </tr>\n",
       "    <tr>\n",
       "      <th>1</th>\n",
       "      <td>1</td>\n",
       "      <td>480.0</td>\n",
       "      <td>0.169</td>\n",
       "      <td>0.002083</td>\n",
       "    </tr>\n",
       "    <tr>\n",
       "      <th>2</th>\n",
       "      <td>2</td>\n",
       "      <td>456.1</td>\n",
       "      <td>0.178</td>\n",
       "      <td>0.002193</td>\n",
       "    </tr>\n",
       "    <tr>\n",
       "      <th>3</th>\n",
       "      <td>3</td>\n",
       "      <td>426.6</td>\n",
       "      <td>0.192</td>\n",
       "      <td>0.002344</td>\n",
       "    </tr>\n",
       "    <tr>\n",
       "      <th>4</th>\n",
       "      <td>4</td>\n",
       "      <td>406.4</td>\n",
       "      <td>0.202</td>\n",
       "      <td>0.002461</td>\n",
       "    </tr>\n",
       "  </tbody>\n",
       "</table>\n",
       "</div>"
      ],
      "text/plain": [
       "   Unnamed: 0      f      L         t\n",
       "0           0  512.0  0.157  0.001953\n",
       "1           1  480.0  0.169  0.002083\n",
       "2           2  456.1  0.178  0.002193\n",
       "3           3  426.6  0.192  0.002344\n",
       "4           4  406.4  0.202  0.002461"
      ]
     },
     "execution_count": 15,
     "metadata": {},
     "output_type": "execute_result"
    }
   ],
   "source": [
    "sos_data.head()"
   ]
  },
  {
   "cell_type": "markdown",
   "metadata": {},
   "source": [
    "We have three variables in our dataset, $L$, $f$, and $t$. Let $L$ be the length of the tube, $f$ be the frequency of the wave, and $t$ be the period or $\\frac{1}{f}$. From physics, we know that the the speed of sound is $v = f\\lambda$, where $\\lambda$ is the wavelength. We can substitute $\\lambda$ with $4(L + .3d)$, where d is the diameter of the tube. Now our equation is: \n",
    "$$v = 4f(L + .3d)$$"
   ]
  },
  {
   "cell_type": "markdown",
   "metadata": {},
   "source": [
    "Remember, our statistical formula should look similar to:\n",
    "$$y_i =  b_0 + b_1x_i$$ \n",
    "Let's rearrange our equation so that we are regressing L on t.\n",
    "$$L = -.3d + \\frac{v}{4}t$$\n",
    "We can translate our variables in the following ways.\n",
    "\n",
    "\n",
    "| Variable      | Translation   |\n",
    "| :-----------: |:-------------:|\n",
    "| $L$           | $y_i$         |\n",
    "| $-.3d$        | $b_0$     |\n",
    "| $\\frac{v}{4}$ | $b_1$     |\n",
    "| $t$           | $x_i$         |\n",
    "\n"
   ]
  },
  {
   "cell_type": "markdown",
   "metadata": {},
   "source": [
    "### Interpreting Coefficients - Speed of Sound\n",
    "It may not be obvious, but with this equation we can estimate the speed of sound. First, we need to regress L on t, so  that we can estimate our $\\beta_0$ and $\\beta_1$ based on our dataset. We have already solved for these coefficients using SALMON when we fitted our model for the regression line. We can access the coefficients from the `bhat` variable of the linear model. e.g. `model.bhat[\"Coefficients\"]`"
   ]
  },
  {
   "cell_type": "code",
   "execution_count": 16,
   "metadata": {
    "collapsed": false
   },
   "outputs": [
    {
     "data": {
      "text/plain": [
       "t            85.454312\n",
       "Intercept    -0.008788\n",
       "Name: Coefficients, dtype: float64"
      ]
     },
     "execution_count": 16,
     "metadata": {},
     "output_type": "execute_result"
    }
   ],
   "source": [
    "model.bhat[\"Coefficients\"]"
   ]
  },
  {
   "cell_type": "markdown",
   "metadata": {},
   "source": [
    "#### Interpreting $b_0$\n",
    "When interpreting $b_0$, we are saying when our variables, in this case $t$, equal zero, this will be the predicted value for our response variable. The speed of sound data set is unique in that interpreting $b_0$ doesn't make sense. Period is equal to $\\frac{1}{frequency}$ so period can not be zero."
   ]
  },
  {
   "cell_type": "markdown",
   "metadata": {},
   "source": [
    "#### Interpreting $b_1$ and Estimating Speed of Sound.\n",
    "Since the period, $t$, is a continuous variable, $b_1 = 85.45$ means that for each single unit increase of the period, $t$, the length of the tube has increased by 85.45 units, holding all other variables constant. In this example, there is just $t$ so we do not have to worry about holding other variables constant. So, we know $b_1 = \\frac{v}{4}$ from our translation table above and we know the value of $b_1$. Now, when we mulitply $b_1$ by 4, we have our estimate of speed of sound. 341.82 m/s is only off by roughly 1.18 m/s!"
   ]
  },
  {
   "cell_type": "code",
   "execution_count": null,
   "metadata": {
    "collapsed": true
   },
   "outputs": [],
   "source": []
  }
 ],
 "metadata": {
  "anaconda-cloud": {},
  "kernelspec": {
   "display_name": "Python 3",
   "language": "python",
   "name": "python3"
  },
  "language_info": {
   "codemirror_mode": {
    "name": "ipython",
    "version": 3
   },
   "file_extension": ".py",
   "mimetype": "text/x-python",
   "name": "python",
   "nbconvert_exporter": "python",
   "pygments_lexer": "ipython3",
   "version": "3.5.4"
  }
 },
 "nbformat": 4,
 "nbformat_minor": 1
}
