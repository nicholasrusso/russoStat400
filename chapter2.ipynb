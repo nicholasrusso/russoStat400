{
 "cells": [
  {
   "cell_type": "markdown",
   "metadata": {},
   "source": [
    "# Simple Linear Regression"
   ]
  },
  {
   "cell_type": "markdown",
   "metadata": {},
   "source": [
    "__Linear Regression Learning Objectives__ \n",
    "* Population vs Sample\n",
    "* Degrees of Freedom\n",
    "* Subpopulations\n",
    "* Statistical Models\n",
    "* Confidence Intervals\n",
    "* Prediction Intervals"
   ]
  },
  {
   "cell_type": "markdown",
   "metadata": {},
   "source": [
    "__Salmon Learning Objectives__ \n",
    "* Model Fit Table\n",
    "* Confidence Intervals\n",
    "* Prediction Intervals"
   ]
  },
  {
   "cell_type": "code",
   "execution_count": 2,
   "metadata": {
    "collapsed": true
   },
   "outputs": [],
   "source": [
    "import pandas as pd\n",
    "from salmon import *\n",
    "%matplotlib inline\n",
    "plt.style.use('seaborn')"
   ]
  },
  {
   "cell_type": "markdown",
   "metadata": {},
   "source": [
    "## Linear Regression and Statistical Modeling\n",
    "In the previous notebook, we foused on building linear models for a __sample__ of data points; this was denoted by using $b_0$ and $b_1$. We estimated our true parameters, $\\hat{\\beta_0}$ and $\\hat{\\beta_1}$, because we did not have the __population__ of points to calculate from. Usually, the population data is not available. Because we used a sample, if we took a different sample of points, we would get a different regression line with different parameters. To illustrate, let's fit a regression line for three different groups results from the speed of sound lab. \n",
    "\n",
    "<table><tr><td style=\"text-align:center\">$y = -0.008788 + 85.454312t$<img src='images/chapter2/data1_reg_line.png'></td><td style=\"text-align:center\">$y = -0.007386 + 84.979305t$<img src='images/chapter2/data2_reg_line.png'></td><td style=\"text-align:center\">$y = -0.010120 + 85.963616t$<img src='images/chapter2/data3_reg_line.png'></td></tr></table>"
   ]
  },
  {
   "cell_type": "markdown",
   "metadata": {},
   "source": [
    "Notice that all of the coefficients are different. If we were able to use the population data, we could calculate the __population regression line__, $\\mu_y = \\beta_0 + \\beta_1x$. The population regression line gives us the mean response of a subpopulation of point occuring for each value of $t$. Each subpopulation is normally distributed and have the same standard deviation. From the population regression line, we can create a __statistical model__ for predicting points, $y = \\beta_0 + \\beta_1x + \\varepsilon_i$ where $\\varepsilon_i$ are the deviations from the population regression line. These deviations are normally distributed with a mean of 0 and a standard deviation of $\\sigma^2$. "
   ]
  },
  {
   "cell_type": "markdown",
   "metadata": {},
   "source": [
    "#### Estimating the Model Parameters\n",
    "Usually, data is a sample from the population of points, so, we will need to estimate the parameters of our statistical model from our sample data. From least squared regression, we can calculate $b_0$ and $b_1$ which are unbaised estimators of $\\beta_0$ and $\\beta_1$ and come from a sample of observations. To account for the deviations, $\\varepsilon_i$, we can calculate the __residuals__ of our observed values by taking the difference between the predicted value and the observed value (we called these the errors in chapter 1). The residuals sum to 0 and come from a population with a mean of 0. We also need to estimate the true standard deviation of the residuals, $\\sigma$, by calculating $S$. $$S = \\sqrt{\\frac{\\sum{e_i^2}}{n-2}}$$\n",
    "\n",
    "You may be curious to know why we divide our $\\sum{e_i^2}$ by $n-2$ instead of $n$. Remember that $e_i$ is the i-th error or residual. The error term is calculated by $y_i - \\hat{y_i}$; this can be expanded to $y_i - b_0 + b_1x_i$. Notice that $b_0$ and $b_1$ are part of this equation but, they can also be one of the n number of residuals. To remove bias, we use n-2 and this is the __degrees of freedom__.  "
   ]
  },
  {
   "cell_type": "markdown",
   "metadata": {},
   "source": [
    "### Significance Testing\n",
    "Significance testing is a helpful tool when analyzing your parameters. While there is a significance test for $b_0$ it is typically not useful. On the other hand, the significance test for $b_1$ can be extremely important and can tell us if x significantly affects y. "
   ]
  },
  {
   "cell_type": "markdown",
   "metadata": {
    "collapsed": true
   },
   "source": [
    "#### Significance Test for $b_1$\n",
    "To perform a significance test for $b_1$, we want to prove that disprove $H_0: \\beta_1 = 0$. To do this, we compute the t statistic, $t = \\frac{b_1}{SE_{b_1}}$, and look up the corresponding p-value. If the p-value is less than 0.05 then we have found a statistically significant relationship."
   ]
  },
  {
   "cell_type": "markdown",
   "metadata": {},
   "source": [
    "#### Model Fitting and Significance Testing in SALMON\n",
    "When we fit a model, we are performing least squared regression and estimating our parameters from our sample. With SALMON, we create two V variables for our response and explanatory variable, create a linear model, then call `.fit(data)` with our data variable. The `fit` method in SALMON provides us with both the t statistic and the p-value. Let's see if there is a statistically significant relationship between drug concentration and math scores from our example in chapter 1."
   ]
  },
  {
   "cell_type": "code",
   "execution_count": 18,
   "metadata": {
    "collapsed": false
   },
   "outputs": [
    {
     "data": {
      "text/html": [
       "<div>\n",
       "<style scoped>\n",
       "    .dataframe tbody tr th:only-of-type {\n",
       "        vertical-align: middle;\n",
       "    }\n",
       "\n",
       "    .dataframe tbody tr th {\n",
       "        vertical-align: top;\n",
       "    }\n",
       "\n",
       "    .dataframe thead th {\n",
       "        text-align: right;\n",
       "    }\n",
       "</style>\n",
       "<table border=\"1\" class=\"dataframe\">\n",
       "  <thead>\n",
       "    <tr style=\"text-align: right;\">\n",
       "      <th></th>\n",
       "      <th>Coefficients</th>\n",
       "      <th>SE</th>\n",
       "      <th>t</th>\n",
       "      <th>p</th>\n",
       "    </tr>\n",
       "  </thead>\n",
       "  <tbody>\n",
       "    <tr>\n",
       "      <th>lsd</th>\n",
       "      <td>-9.009466</td>\n",
       "      <td>1.503076</td>\n",
       "      <td>-5.994017</td>\n",
       "      <td>0.001854</td>\n",
       "    </tr>\n",
       "    <tr>\n",
       "      <th>Intercept</th>\n",
       "      <td>89.123874</td>\n",
       "      <td>7.047547</td>\n",
       "      <td>12.646085</td>\n",
       "      <td>0.000055</td>\n",
       "    </tr>\n",
       "  </tbody>\n",
       "</table>\n",
       "</div>"
      ],
      "text/plain": [
       "           Coefficients        SE          t         p\n",
       "lsd           -9.009466  1.503076  -5.994017  0.001854\n",
       "Intercept     89.123874  7.047547  12.646085  0.000055"
      ]
     },
     "execution_count": 18,
     "metadata": {},
     "output_type": "execute_result"
    }
   ],
   "source": [
    "lsd_data = pd.read_csv(\"data/chapter1/lsd.csv\")\n",
    "explanatory = V(\"lsd\")\n",
    "response = V(\"math\")\n",
    "lsd_model = LinearModel(explanatory, response)\n",
    "lsd_model.fit(lsd_data)"
   ]
  },
  {
   "cell_type": "markdown",
   "metadata": {},
   "source": [
    "As you can see, the $b_1$, lsd, p values is well below 0.05. From this, we can determine that there is a statistically significant relationship between LSD and Math score and we proved that the drug concentration does affect the math score result. "
   ]
  },
  {
   "cell_type": "markdown",
   "metadata": {},
   "source": [
    "### Confidence Intervals\n",
    "Since we are estimating the parameters our model, it would be nice to know how confident we are that they are correct. With confidence intervals, we can do that. For both confidence intervals, we will be using the t statistic. $t^*$ is equal to the t value with n - 2 degrees of freedom for the given confidence level, usually 95%."
   ]
  },
  {
   "cell_type": "markdown",
   "metadata": {},
   "source": [
    "#### Confidence Interval for $b_0$\n",
    "The confidence interval for $b_0$ is calculated as:\n",
    "$$b_0 \\pm t^*SE_{b_0}$$\n",
    "where $SE_{b_0} = s \\sqrt{\\frac{1}{n} + \\frac{\\bar{x}^2}{\\sum(x_i - \\bar{x})^2}}$ "
   ]
  },
  {
   "cell_type": "markdown",
   "metadata": {},
   "source": [
    "#### Confidence Interval for $b_1$\n",
    "The confidence interval for $b_1$ is calculated as:\n",
    "$$b_1 \\pm t^*SE_{b_1}$$\n",
    "where $SE_{b_1} = \\frac{s}{\\sum(x_i - \\bar{x})^2}$ "
   ]
  },
  {
   "cell_type": "markdown",
   "metadata": {},
   "source": [
    "With these confidence intervals, we can provide a level of certainty for the coefficients. For a concrete example, let's calculate the confidence intervals for the speed of sound coefficients using SALMON. Once you fit a model in SALMON, you're given all the tools you need to calculate the confidence interval at a 95% level."
   ]
  },
  {
   "cell_type": "markdown",
   "metadata": {
    "collapsed": true
   },
   "source": [
    "#### Confidence Intervals with SALMON\n",
    "In SALMON, we can calculate the confidence intervals using the method `confidence_intervals`. All we need to do is call `.confidence_intervals()` on our `lsd_model` from above."
   ]
  },
  {
   "cell_type": "code",
   "execution_count": 19,
   "metadata": {
    "collapsed": false,
    "scrolled": true
   },
   "outputs": [
    {
     "data": {
      "text/html": [
       "<div>\n",
       "<style scoped>\n",
       "    .dataframe tbody tr th:only-of-type {\n",
       "        vertical-align: middle;\n",
       "    }\n",
       "\n",
       "    .dataframe tbody tr th {\n",
       "        vertical-align: top;\n",
       "    }\n",
       "\n",
       "    .dataframe thead th {\n",
       "        text-align: right;\n",
       "    }\n",
       "</style>\n",
       "<table border=\"1\" class=\"dataframe\">\n",
       "  <thead>\n",
       "    <tr style=\"text-align: right;\">\n",
       "      <th></th>\n",
       "      <th>2.5%</th>\n",
       "      <th>97.5%</th>\n",
       "    </tr>\n",
       "  </thead>\n",
       "  <tbody>\n",
       "    <tr>\n",
       "      <th>lsd</th>\n",
       "      <td>-12.873248</td>\n",
       "      <td>-5.145685</td>\n",
       "    </tr>\n",
       "    <tr>\n",
       "      <th>Intercept</th>\n",
       "      <td>71.007578</td>\n",
       "      <td>107.240169</td>\n",
       "    </tr>\n",
       "  </tbody>\n",
       "</table>\n",
       "</div>"
      ],
      "text/plain": [
       "                2.5%       97.5%\n",
       "lsd       -12.873248   -5.145685\n",
       "Intercept  71.007578  107.240169"
      ]
     },
     "execution_count": 19,
     "metadata": {},
     "output_type": "execute_result"
    }
   ],
   "source": [
    "lsd_model.confidence_intervals()"
   ]
  },
  {
   "cell_type": "markdown",
   "metadata": {},
   "source": [
    "The intercept confidence interval, $b_0$, is [71.008, 107.24]. For the lsd variable, $b_1$, the interval is [-12.873, -5.146] meaning that for every 1 milligram increase in LSD the user's math score will decrease between 12.873 and 5.146 with 95% confidence. Additionally, you can add a confidence band to your graph that displays the confidence interval at all values of x using `.plot(confidence_band=True)`."
   ]
  },
  {
   "cell_type": "code",
   "execution_count": 17,
   "metadata": {
    "collapsed": false
   },
   "outputs": [
    {
     "data": {
      "image/png": "[encoded data removed]",
      "text/plain": [
       "<matplotlib.figure.Figure at 0x1a1410fd68>"
      ]
     },
     "metadata": {},
     "output_type": "display_data"
    }
   ],
   "source": [
    "lsd_model.plot(confidence_band=True)"
   ]
  },
  {
   "cell_type": "markdown",
   "metadata": {},
   "source": [
    "### Prediction Intervals\n",
    "With our linear model above, we are able to predict new values of y when given new values of x, we call these new explanatory values $x^*$ and we just plug them into our model. But, our model was built using estimated parameters so we need prediction intervals to tell us how good our predictions are. The formula is similar to the confidence intervals: \n",
    "$$\\hat{y} \\pm t^*SE_{\\hat{y}}$$\n",
    "where $SE_{\\hat{y}} = s \\sqrt{1 + \\frac{1}{n} + \\frac{(x^* - \\bar{x})^2}{\\sum(x_i - \\bar{x})^2}}$ "
   ]
  },
  {
   "cell_type": "markdown",
   "metadata": {},
   "source": [
    "#### Prediction Bands in SALMON\n",
    "A good way to visualize prediction intervals for all values of x is plotting a prediction band. Predicting bands are easy to create in SALMON. To plot the prediction band, use the function `.plot(prediction_band=True)`. "
   ]
  },
  {
   "cell_type": "code",
   "execution_count": 21,
   "metadata": {
    "collapsed": false
   },
   "outputs": [
    {
     "data": {
      "image/png": "[encoded data removed]",
      "text/plain": [
       "<matplotlib.figure.Figure at 0x10a0d4278>"
      ]
     },
     "metadata": {},
     "output_type": "display_data"
    }
   ],
   "source": [
    "lsd_model.plot(prediction_band=True)"
   ]
  },
  {
   "cell_type": "code",
   "execution_count": null,
   "metadata": {
    "collapsed": true
   },
   "outputs": [],
   "source": []
  }
 ],
 "metadata": {
  "kernelspec": {
   "display_name": "Python 3",
   "language": "python",
   "name": "python3"
  },
  "language_info": {
   "codemirror_mode": {
    "name": "ipython",
    "version": 3
   },
   "file_extension": ".py",
   "mimetype": "text/x-python",
   "name": "python",
   "nbconvert_exporter": "python",
   "pygments_lexer": "ipython3",
   "version": "3.5.4"
  }
 },
 "nbformat": 4,
 "nbformat_minor": 0
}
